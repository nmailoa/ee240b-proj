{
 "cells": [
  {
   "cell_type": "code",
   "execution_count": 8,
   "metadata": {
    "collapsed": true
   },
   "outputs": [],
   "source": [
    "import numpy as np\n",
    "import matplotlib.pyplot as plt\n",
    "%matplotlib inline\n",
    "\n",
    "tssamp = 1.8e-9\n",
    "BW = 500e3-100\n",
    "Cl2 = 50e-15\n",
    "ts = 1/4e-9\n",
    "ed = .0005"
   ]
  },
  {
   "cell_type": "code",
   "execution_count": 93,
   "metadata": {
    "collapsed": false
   },
   "outputs": [
    {
     "name": "stdout",
     "output_type": "stream",
     "text": [
      "1.0050010002000399e-06\n",
      "Beta= 0.6666666666666667\n",
      "Cltot= 2.9999999999999993e-11\n",
      "Cs= 1.777422222222222e-12 Cf= 3.554844444444444e-12 CL= 2.8815051851851846e-11 gm= 0.191923348553\n",
      "fT= 1.56312404021e-10\n",
      "BW = 678789991.488\n"
     ]
    },
    {
     "data": {
      "text/plain": [
       "3.980095541401274e-15"
      ]
     },
     "execution_count": 93,
     "metadata": {},
     "output_type": "execute_result"
    }
   ],
   "source": [
    "alpha = 2\n",
    "kT = 4e-21\n",
    "\n",
    "OSR = 250e6/(2*(500e3-100))\n",
    "OSR\n",
    "Cx = 0\n",
    "N11 = 25e-12 *((500e3-100)/(250e6*2*6.28) )\n",
    "\n",
    "\n",
    "Cs = kT/(OSR*9e-12)\n",
    "Cf = 2*Cs\n",
    "B = Cf/(Cs + Cf+ Cx)\n",
    "Cltot = (kT*alpha)/(B *400e-12)\n",
    "CL = Cltot - (1-B)*Cf\n",
    "tau = -tssamp / np.log(ed*(1-B*(Cf/(Cf+CL))))\n",
    "gm = Cltot/(B*tau)\n",
    "print(kT/N11)\n",
    "print(\"Beta=\", B)\n",
    "print(\"Cltot=\",Cltot)\n",
    "print(\"Cs=\",Cs, \"Cf=\",Cf, \"CL=\",CL, \"gm=\",gm)\n",
    "print(\"fT=\", Cltot/gm)\n",
    "print(\"BW =\", 1/(2*np.pi*tau))\n",
    "N11"
   ]
  },
  {
   "cell_type": "code",
   "execution_count": 12,
   "metadata": {
    "collapsed": false
   },
   "outputs": [
    {
     "name": "stdout",
     "output_type": "stream",
     "text": [
      "C1 =  1.605e-11\n",
      "C2 =  5.35e-12\n",
      "gm =  0.00692502466718\n"
     ]
    }
   ],
   "source": [
    "\n",
    "\n",
    "fs = 50e6\n",
    "ed = .001\n",
    "av = 3\n",
    "Vtot = 100e-6\n",
    "Cl = 1e-12\n",
    "\n",
    "\n",
    "kT = 1.38e-23*300\n",
    "C2 = 5.35e-12\n",
    "C1 = av*C2\n",
    "gm = -4*fs*np.log(ed)*(Cl +(1-.25)*C2)\n",
    "print(\"C1 = \", C1)\n",
    "print(\"C2 = \", C2)\n",
    "print(\"gm = \", gm)"
   ]
  },
  {
   "cell_type": "code",
   "execution_count": 5,
   "metadata": {
    "collapsed": false
   },
   "outputs": [
    {
     "data": {
      "text/plain": [
       "2e-08"
      ]
     },
     "execution_count": 5,
     "metadata": {},
     "output_type": "execute_result"
    }
   ],
   "source": [
    "1/fs"
   ]
  },
  {
   "cell_type": "code",
   "execution_count": 6,
   "metadata": {
    "collapsed": false
   },
   "outputs": [
    {
     "data": {
      "text/plain": [
       "3.0"
      ]
     },
     "execution_count": 6,
     "metadata": {},
     "output_type": "execute_result"
    }
   ],
   "source": [
    "C1/C2"
   ]
  },
  {
   "cell_type": "code",
   "execution_count": 11,
   "metadata": {
    "collapsed": false
   },
   "outputs": [
    {
     "data": {
      "text/plain": [
       "2.997"
      ]
     },
     "execution_count": 11,
     "metadata": {},
     "output_type": "execute_result"
    }
   ],
   "source": [
    "3*.999"
   ]
  },
  {
   "cell_type": "code",
   "execution_count": 52,
   "metadata": {
    "collapsed": false
   },
   "outputs": [
    {
     "data": {
      "text/plain": [
       "5.000000000000001e-11"
      ]
     },
     "execution_count": 52,
     "metadata": {},
     "output_type": "execute_result"
    }
   ],
   "source": [
    "pow(10e-6, 2)/2"
   ]
  },
  {
   "cell_type": "code",
   "execution_count": 56,
   "metadata": {
    "collapsed": false
   },
   "outputs": [
    {
     "data": {
      "text/plain": [
       "2650813874.6560326"
      ]
     },
     "execution_count": 56,
     "metadata": {},
     "output_type": "execute_result"
    }
   ],
   "source": [
    ".5/(Cltot*2*3.14159)"
   ]
  },
  {
   "cell_type": "code",
   "execution_count": 59,
   "metadata": {
    "collapsed": false
   },
   "outputs": [
    {
     "data": {
      "text/plain": [
       "0.002199113"
      ]
     },
     "execution_count": 59,
     "metadata": {},
     "output_type": "execute_result"
    }
   ],
   "source": [
    "35e9*(2*3.14159*10e-15)"
   ]
  },
  {
   "cell_type": "code",
   "execution_count": 66,
   "metadata": {
    "collapsed": false
   },
   "outputs": [
    {
     "data": {
      "text/plain": [
       "108919.53261044929"
      ]
     },
     "execution_count": 66,
     "metadata": {},
     "output_type": "execute_result"
    }
   ],
   "source": [
    "(np.exp(-30/20)-np.exp(-105/20))*(500e3-100)"
   ]
  },
  {
   "cell_type": "code",
   "execution_count": 82,
   "metadata": {
    "collapsed": false
   },
   "outputs": [
    {
     "data": {
      "text/plain": [
       "250.0500100020004"
      ]
     },
     "execution_count": 82,
     "metadata": {},
     "output_type": "execute_result"
    }
   ],
   "source": [
    "OSR = 250e6/(2*(500e3-100))\n",
    "OSR"
   ]
  },
  {
   "cell_type": "code",
   "execution_count": 85,
   "metadata": {
    "collapsed": false
   },
   "outputs": [
    {
     "data": {
      "text/plain": [
       "2.8281442678901654e-06"
      ]
     },
     "execution_count": 85,
     "metadata": {},
     "output_type": "execute_result"
    }
   ],
   "source": [
    "np.sqrt(kT/(OSR*2e-12))"
   ]
  },
  {
   "cell_type": "code",
   "execution_count": 92,
   "metadata": {
    "collapsed": false
   },
   "outputs": [
    {
     "data": {
      "text/plain": [
       "1.777422222222222e-12"
      ]
     },
     "execution_count": 92,
     "metadata": {},
     "output_type": "execute_result"
    }
   ],
   "source": [
    "kT/(OSR*9e-12)"
   ]
  },
  {
   "cell_type": "code",
   "execution_count": null,
   "metadata": {
    "collapsed": true
   },
   "outputs": [],
   "source": []
  }
 ],
 "metadata": {
  "kernelspec": {
   "display_name": "Python 3",
   "language": "python",
   "name": "python3"
  },
  "language_info": {
   "codemirror_mode": {
    "name": "ipython",
    "version": 3
   },
   "file_extension": ".py",
   "mimetype": "text/x-python",
   "name": "python",
   "nbconvert_exporter": "python",
   "pygments_lexer": "ipython3",
   "version": "3.4.3"
  }
 },
 "nbformat": 4,
 "nbformat_minor": 0
}
