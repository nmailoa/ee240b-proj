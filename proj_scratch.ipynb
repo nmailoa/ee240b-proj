{
 "cells": [
  {
   "cell_type": "code",
   "execution_count": 116,
   "metadata": {
    "collapsed": true
   },
   "outputs": [],
   "source": [
    "import numpy as np\n",
    "import matplotlib.pyplot as plt\n",
    "%matplotlib inline\n",
    "\n",
    "tssamp = 1.8e-9\n",
    "BW = 500e3-100\n",
    "Cl2 = 50e-15\n",
    "ts = 1/4e-9\n",
    "ed = .0005"
   ]
  },
  {
   "cell_type": "code",
   "execution_count": 59,
   "metadata": {
    "collapsed": false
   },
   "outputs": [
    {
     "name": "stdout",
     "output_type": "stream",
     "text": [
      "1.5996799999999997e-14\n",
      "Beta= 0.6666666666666666\n",
      "Cltot= 1.3833333333333334e-12\n",
      "1/tau= 4819512941.71\n",
      "Cs= 2e-12 Cf= 4e-12 CL= 5e-14 gm= 0.0100004893541\n",
      "fT= 1.38326564267e-10\n",
      "BW = 767049307.969\n"
     ]
    },
    {
     "data": {
      "text/plain": [
       "2.500500100020004e-07"
      ]
     },
     "execution_count": 59,
     "metadata": {},
     "output_type": "execute_result"
    }
   ],
   "source": [
    "alpha = 2\n",
    "kT = 4e-21\n",
    "\n",
    "OSR = 250e6/(2*(500e3-100))\n",
    "OSR\n",
    "Cx = 0\n",
    "N11 = 1e-12 *1000* OSR\n",
    "\n",
    "\n",
    "Cs = 2e-12\n",
    "Cf = 2*Cs\n",
    "B = Cf/(Cs + Cf+ Cx)\n",
    "CL = 50e-15#Cltot - (1-B)*Cf\n",
    "Cltot = CL + (1-B)*Cf\n",
    "tau = -tssamp / np.log(ed*(1-B*(Cf/(Cf+CL))))\n",
    "gm = Cltot/(B*tau)\n",
    "print(kT/N11)\n",
    "print(\"Beta=\", B)\n",
    "print(\"Cltot=\",Cltot)\n",
    "print(\"1/tau=\",1/tau)\n",
    "print(\"Cs=\",Cs, \"Cf=\",Cf, \"CL=\",CL, \"gm=\",gm)\n",
    "print(\"fT=\", Cltot/gm)\n",
    "print(\"BW =\", 1/(2*np.pi*tau))\n",
    "N11"
   ]
  },
  {
   "cell_type": "code",
   "execution_count": 103,
   "metadata": {
    "collapsed": false
   },
   "outputs": [
    {
     "name": "stdout",
     "output_type": "stream",
     "text": [
      "1.777422222222222e-12\n",
      "Beta= 0.6666666666666667\n",
      "Cltot= 1.2349481481481478e-12\n",
      "Cs= 1.777422222222222e-12 Cf= 3.554844444444444e-12 CL= 5e-14 gm= 0.00892471514234\n",
      "fT= 1.38373956866e-10\n",
      "BW = 766786596.247\n"
     ]
    },
    {
     "data": {
      "text/plain": [
       "2.2504500900180036e-09"
      ]
     },
     "execution_count": 103,
     "metadata": {},
     "output_type": "execute_result"
    }
   ],
   "source": [
    "##GO AWAY\n",
    "alpha = 2\n",
    "kT = 4e-21\n",
    "\n",
    "OSR = 250e6/(2*(500e3-100))\n",
    "OSR\n",
    "Cx = 0\n",
    "N11 = 9e-12 * OSR\n",
    "\n",
    "\n",
    "Cs = kT/N11\n",
    "Cf = 2*Cs\n",
    "B = Cf/(Cs + Cf+ Cx)\n",
    "CL = 50e-15#Cltot - (1-B)*Cf\n",
    "Cltot = CL + (1-B)*Cf\n",
    "tau = -tssamp / np.log(ed*(1-B*(Cf/(Cf+CL))))\n",
    "gm = Cltot/(B*tau)\n",
    "print(kT/N11)\n",
    "print(\"Beta=\", B)\n",
    "print(\"Cltot=\",Cltot)\n",
    "print(\"Cs=\",Cs, \"Cf=\",Cf, \"CL=\",CL, \"gm=\",gm)\n",
    "print(\"fT=\", Cltot/gm)\n",
    "print(\"BW =\", 1/(2*np.pi*tau))\n",
    "N11"
   ]
  },
  {
   "cell_type": "code",
   "execution_count": 5,
   "metadata": {
    "collapsed": false
   },
   "outputs": [
    {
     "data": {
      "text/plain": [
       "2e-08"
      ]
     },
     "execution_count": 5,
     "metadata": {},
     "output_type": "execute_result"
    }
   ],
   "source": [
    "1/fs"
   ]
  },
  {
   "cell_type": "code",
   "execution_count": 6,
   "metadata": {
    "collapsed": false
   },
   "outputs": [
    {
     "data": {
      "text/plain": [
       "3.0"
      ]
     },
     "execution_count": 6,
     "metadata": {},
     "output_type": "execute_result"
    }
   ],
   "source": [
    "C1/C2"
   ]
  },
  {
   "cell_type": "code",
   "execution_count": 11,
   "metadata": {
    "collapsed": false
   },
   "outputs": [
    {
     "data": {
      "text/plain": [
       "2.997"
      ]
     },
     "execution_count": 11,
     "metadata": {},
     "output_type": "execute_result"
    }
   ],
   "source": [
    "3*.999"
   ]
  },
  {
   "cell_type": "code",
   "execution_count": 52,
   "metadata": {
    "collapsed": false
   },
   "outputs": [
    {
     "data": {
      "text/plain": [
       "5.000000000000001e-11"
      ]
     },
     "execution_count": 52,
     "metadata": {},
     "output_type": "execute_result"
    }
   ],
   "source": [
    "pow(10e-6, 2)/2"
   ]
  },
  {
   "cell_type": "code",
   "execution_count": 56,
   "metadata": {
    "collapsed": false
   },
   "outputs": [
    {
     "data": {
      "text/plain": [
       "2650813874.6560326"
      ]
     },
     "execution_count": 56,
     "metadata": {},
     "output_type": "execute_result"
    }
   ],
   "source": [
    ".5/(Cltot*2*3.14159)"
   ]
  },
  {
   "cell_type": "code",
   "execution_count": 59,
   "metadata": {
    "collapsed": false
   },
   "outputs": [
    {
     "data": {
      "text/plain": [
       "0.002199113"
      ]
     },
     "execution_count": 59,
     "metadata": {},
     "output_type": "execute_result"
    }
   ],
   "source": [
    "35e9*(2*3.14159*10e-15)"
   ]
  },
  {
   "cell_type": "code",
   "execution_count": 66,
   "metadata": {
    "collapsed": false
   },
   "outputs": [
    {
     "data": {
      "text/plain": [
       "108919.53261044929"
      ]
     },
     "execution_count": 66,
     "metadata": {},
     "output_type": "execute_result"
    }
   ],
   "source": [
    "(np.exp(-30/20)-np.exp(-105/20))*(500e3-100)"
   ]
  },
  {
   "cell_type": "code",
   "execution_count": 82,
   "metadata": {
    "collapsed": false
   },
   "outputs": [
    {
     "data": {
      "text/plain": [
       "250.0500100020004"
      ]
     },
     "execution_count": 82,
     "metadata": {},
     "output_type": "execute_result"
    }
   ],
   "source": [
    "OSR = 250e6/(2*(500e3-100))\n",
    "OSR"
   ]
  },
  {
   "cell_type": "code",
   "execution_count": 85,
   "metadata": {
    "collapsed": false
   },
   "outputs": [
    {
     "data": {
      "text/plain": [
       "2.8281442678901654e-06"
      ]
     },
     "execution_count": 85,
     "metadata": {},
     "output_type": "execute_result"
    }
   ],
   "source": [
    "np.sqrt(kT/(OSR*2e-12))"
   ]
  },
  {
   "cell_type": "code",
   "execution_count": 92,
   "metadata": {
    "collapsed": false
   },
   "outputs": [
    {
     "data": {
      "text/plain": [
       "1.777422222222222e-12"
      ]
     },
     "execution_count": 92,
     "metadata": {},
     "output_type": "execute_result"
    }
   ],
   "source": [
    "kT/(OSR*9e-12)"
   ]
  },
  {
   "cell_type": "code",
   "execution_count": 108,
   "metadata": {
    "collapsed": false
   },
   "outputs": [
    {
     "data": {
      "text/plain": [
       "1592356687.8980892"
      ]
     },
     "execution_count": 108,
     "metadata": {},
     "output_type": "execute_result"
    }
   ],
   "source": [
    "1/(6.28*1e-12*100)"
   ]
  },
  {
   "cell_type": "code",
   "execution_count": 2,
   "metadata": {
    "collapsed": false
   },
   "outputs": [],
   "source": [
    "def par(a, b):\n",
    "    return 1/((1/a)+(1/b))"
   ]
  },
  {
   "cell_type": "code",
   "execution_count": 20,
   "metadata": {
    "collapsed": false
   },
   "outputs": [
    {
     "data": {
      "text/plain": [
       "12.012012012012013"
      ]
     },
     "execution_count": 20,
     "metadata": {},
     "output_type": "execute_result"
    }
   ],
   "source": [
    "#RO SHIT\n",
    "\n",
    "ro1=1/.004\n",
    "ro2=1/.0008\n",
    "ro3=1/.00040\n",
    "ro4=1/.0013\n",
    "ro5=1/.011\n",
    "gm2=.0075\n",
    "gm3=.008\n",
    "\n",
    "par(ro2*gm2*par(ro1, ro5), ro3*gm3*ro4)*20e-3\n",
    "\n"
   ]
  },
  {
   "cell_type": "code",
   "execution_count": 40,
   "metadata": {
    "collapsed": false
   },
   "outputs": [
    {
     "data": {
      "text/plain": [
       "0.9979238483010839"
      ]
     },
     "execution_count": 40,
     "metadata": {},
     "output_type": "execute_result"
    }
   ],
   "source": [
    "rn= (1/4806603721.79)/1e-12\n",
    "par(rn, 100e3)/rn"
   ]
  },
  {
   "cell_type": "code",
   "execution_count": 138,
   "metadata": {
    "collapsed": false
   },
   "outputs": [
    {
     "name": "stdout",
     "output_type": "stream",
     "text": [
      "Min gm =  0.018840000000000003\n",
      "Idiff =  0.0005\n",
      "Ro min=  300000.0\n",
      "Ro max=  10615.711252653928\n"
     ]
    }
   ],
   "source": [
    "f_ugb = 1e9\n",
    "Cltot = 3e-12\n",
    "gm = f_ugb*Cltot*2*3.14 # .02 minimum\n",
    "print (\"Min gm = \", gm)\n",
    "gm =.01\n",
    "Idiff  = .1*(gm/2)\n",
    "print (\"Idiff = \", Idiff)\n",
    "A_tot = 3000\n",
    "Ro = 3000/gm\n",
    "print (\"Ro min= \", Ro )\n",
    "Ro = 1/(2*3.14*5e6*Cltot)\n",
    "print (\"Ro max= \", Ro )\n",
    "\n"
   ]
  },
  {
   "cell_type": "code",
   "execution_count": 202,
   "metadata": {
    "collapsed": false
   },
   "outputs": [
    {
     "data": {
      "text/plain": [
       "1.32e-13"
      ]
     },
     "execution_count": 202,
     "metadata": {},
     "output_type": "execute_result"
    }
   ],
   "source": [
    "#OTA\n",
    "ro8 = 1/.00055\n",
    "ro9 = 1/.0047\n",
    "ro0 = 1/.0007\n",
    "ro21 = 1/.0047\n",
    "gm8 = .012\n",
    "\n",
    "B = .59\n",
    "cltot = 50e-15 + ((1-B)*200e-15)\n",
    "\n",
    "cltot"
   ]
  },
  {
   "cell_type": "code",
   "execution_count": 203,
   "metadata": {
    "collapsed": false
   },
   "outputs": [
    {
     "data": {
      "text/plain": [
       "1008612322.1260725"
      ]
     },
     "execution_count": 203,
     "metadata": {},
     "output_type": "execute_result"
    }
   ],
   "source": [
    "BW = np.log(.0005)/-1.2e-9\n",
    "BW/(2*3.14)"
   ]
  },
  {
   "cell_type": "code",
   "execution_count": 204,
   "metadata": {
    "collapsed": false
   },
   "outputs": [
    {
     "data": {
      "text/plain": [
       "0.00083609927054962901"
      ]
     },
     "execution_count": 204,
     "metadata": {},
     "output_type": "execute_result"
    }
   ],
   "source": [
    "gm = cltot*BW\n",
    "gm"
   ]
  },
  {
   "cell_type": "code",
   "execution_count": 156,
   "metadata": {
    "collapsed": false
   },
   "outputs": [
    {
     "name": "stdout",
     "output_type": "stream",
     "text": [
      "current min: 0.00358\n",
      "current for gm 0.00113380128355\n"
     ]
    }
   ],
   "source": [
    "vstar = .2\n",
    "print (\"current min:\", cltot*1/.5e-9)\n",
    "print (\"current for gm\", gm*vstar/2)"
   ]
  },
  {
   "cell_type": "code",
   "execution_count": 150,
   "metadata": {
    "collapsed": false
   },
   "outputs": [
    {
     "data": {
      "text/plain": [
       "0.011999999999999999"
      ]
     },
     "execution_count": 150,
     "metadata": {},
     "output_type": "execute_result"
    }
   ],
   "source": [
    "2*1.2e-3/.2"
   ]
  },
  {
   "cell_type": "code",
   "execution_count": 185,
   "metadata": {
    "collapsed": false
   },
   "outputs": [
    {
     "data": {
      "text/plain": [
       "4777.070063694267"
      ]
     },
     "execution_count": 185,
     "metadata": {},
     "output_type": "execute_result"
    }
   ],
   "source": [
    "60/(2*3.14*2e9*1e-12)\n"
   ]
  },
  {
   "cell_type": "code",
   "execution_count": 197,
   "metadata": {
    "collapsed": false
   },
   "outputs": [
    {
     "name": "stdout",
     "output_type": "stream",
     "text": [
      "gm= 0.006280000000000001\n"
     ]
    },
    {
     "data": {
      "text/plain": [
       "4777.0700636942665"
      ]
     },
     "execution_count": 197,
     "metadata": {},
     "output_type": "execute_result"
    }
   ],
   "source": [
    "gm = 2*3.14*200e-15*5e9\n",
    "print(\"gm=\", gm)\n",
    "30/gm"
   ]
  },
  {
   "cell_type": "code",
   "execution_count": 199,
   "metadata": {
    "collapsed": false
   },
   "outputs": [
    {
     "data": {
      "text/plain": [
       "5263157894.736843"
      ]
     },
     "execution_count": 199,
     "metadata": {},
     "output_type": "execute_result"
    }
   ],
   "source": [
    "1/(2.67e-9-2.48e-9)"
   ]
  },
  {
   "cell_type": "code",
   "execution_count": 205,
   "metadata": {
    "collapsed": false
   },
   "outputs": [
    {
     "data": {
      "text/plain": [
       "79.41000000000003"
      ]
     },
     "execution_count": 205,
     "metadata": {},
     "output_type": "execute_result"
    }
   ],
   "source": [
    "360-280.59"
   ]
  },
  {
   "cell_type": "code",
   "execution_count": null,
   "metadata": {
    "collapsed": true
   },
   "outputs": [],
   "source": []
  }
 ],
 "metadata": {
  "kernelspec": {
   "display_name": "Python 3",
   "language": "python",
   "name": "python3"
  },
  "language_info": {
   "codemirror_mode": {
    "name": "ipython",
    "version": 3
   },
   "file_extension": ".py",
   "mimetype": "text/x-python",
   "name": "python",
   "nbconvert_exporter": "python",
   "pygments_lexer": "ipython3",
   "version": "3.4.3"
  }
 },
 "nbformat": 4,
 "nbformat_minor": 0
}
